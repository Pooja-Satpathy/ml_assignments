{
 "cells": [
  {
   "cell_type": "code",
   "execution_count": 2,
   "id": "b044b1b6",
   "metadata": {},
   "outputs": [
    {
     "name": "stdout",
     "output_type": "stream",
     "text": [
      "1000000\n"
     ]
    }
   ],
   "source": [
    "class Car:\n",
    "    def __init__(self,model):\n",
    "        self.model=model\n",
    "    def setprice(self,price):\n",
    "        self.price=price\n",
    "    def getprice(self):\n",
    "        return self.price\n",
    "Audi=Car(\"Ref\")\n",
    "Audi.setprice(1000000)\n",
    "print(Audi.getprice())"
   ]
  },
  {
   "cell_type": "code",
   "execution_count": 4,
   "id": "b2e8fc23",
   "metadata": {},
   "outputs": [
    {
     "name": "stdout",
     "output_type": "stream",
     "text": [
      "100000\n",
      "1000000\n",
      "car\n"
     ]
    }
   ],
   "source": [
    "class Car:\n",
    "    vehicle=\"car\"\n",
    "    def __init__(self,model,price):\n",
    "        self.model=model\n",
    "        self.price=price\n",
    "Audi=Car(\"R8\",100000)\n",
    "BMW=Car(\"I8\",1000000)\n",
    "print(Audi.price)\n",
    "print(BMW.price)\n",
    "print(Car.vehicle)"
   ]
  },
  {
   "cell_type": "code",
   "execution_count": 10,
   "id": "170f3816",
   "metadata": {},
   "outputs": [
    {
     "name": "stdout",
     "output_type": "stream",
     "text": [
      "Capital of  India is:Delhi\n"
     ]
    }
   ],
   "source": [
    "class Test:\n",
    "      def __init__(Myobject, a, b):\n",
    "        Myobject.country = a\n",
    "        Myobject.capital = b\n",
    " \n",
    "      def myfunc(abc):\n",
    "        print(\"Capital of  \" + abc.country +\" is:\"+abc.capital)\n",
    " \n",
    "x = Test(\"India\", \"Delhi\")\n",
    "x.myfunc()\n"
   ]
  },
  {
   "cell_type": "code",
   "execution_count": null,
   "id": "f4878d96",
   "metadata": {},
   "outputs": [],
   "source": []
  },
  {
   "cell_type": "code",
   "execution_count": null,
   "id": "f10ead7f",
   "metadata": {},
   "outputs": [],
   "source": []
  },
  {
   "cell_type": "code",
   "execution_count": null,
   "id": "a7ca44f9",
   "metadata": {},
   "outputs": [],
   "source": []
  },
  {
   "cell_type": "code",
   "execution_count": null,
   "id": "08ece9cb",
   "metadata": {},
   "outputs": [],
   "source": []
  },
  {
   "cell_type": "code",
   "execution_count": null,
   "id": "2d23234f",
   "metadata": {},
   "outputs": [],
   "source": []
  }
 ],
 "metadata": {
  "kernelspec": {
   "display_name": "Python 3 (ipykernel)",
   "language": "python",
   "name": "python3"
  },
  "language_info": {
   "codemirror_mode": {
    "name": "ipython",
    "version": 3
   },
   "file_extension": ".py",
   "mimetype": "text/x-python",
   "name": "python",
   "nbconvert_exporter": "python",
   "pygments_lexer": "ipython3",
   "version": "3.9.12"
  }
 },
 "nbformat": 4,
 "nbformat_minor": 5
}
