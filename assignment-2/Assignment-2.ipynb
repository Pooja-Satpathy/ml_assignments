{
 "cells": [
  {
   "cell_type": "code",
   "execution_count": 9,
   "id": "0c464767",
   "metadata": {},
   "outputs": [
    {
     "name": "stdout",
     "output_type": "stream",
     "text": [
      "[   1.24963642   -7.21908145  -34.72200088   73.85057743    1.88297877\n",
      " -165.88390689]\n",
      "1640.1094860249264\n"
     ]
    }
   ],
   "source": [
    "# Q.1\n",
    "import numpy as np\n",
    "arr=np.array([[1000,35,5,3,365,5],\n",
    "                [865,25,6,4,460,4],\n",
    "                [900,20,8,5,200,2],\n",
    "                [940,40,7,7,800,5],\n",
    "                [1500,60,6,5,500,3],\n",
    "                [1450,50,8,10,1000,5],\n",
    "               [1600,60,8,8,700,4],\n",
    "               [1200,30,15,20,1600,5],\n",
    "               [700,40,12,16,500,4],\n",
    "               [800,100,20,30,2000,4]])\n",
    "Y=np.array([1405,1200,1100,1300,2000,3000,2500,4500,1500,5000])\n",
    "arr1=arr.transpose()\n",
    "X1=np.array([750,65,10,12,600,3])\n",
    "n=np.dot(arr1,arr)\n",
    "B=np.linalg.inv(n)\n",
    "arr2=np.dot(arr1,Y)\n",
    "B=np.dot(B,arr2)\n",
    "print(B)\n",
    "B1=np.insert(B,0,1)\n",
    "# print(B1)\n",
    "X2=np.insert(X1,0,1)\n",
    "# print(X2)\n",
    "B1=B1.transpose()\n",
    "y=np.dot(B1,X2)\n",
    "print(y)"
   ]
  },
  {
   "cell_type": "code",
   "execution_count": 5,
   "id": "e4fdfa28",
   "metadata": {},
   "outputs": [
    {
     "name": "stdout",
     "output_type": "stream",
     "text": [
      "enter the value of lambda:6\n",
      "[   1.04718089   -6.08093565  -19.86557379   57.14192236    1.90833118\n",
      " -117.40315329]\n",
      "1670.9614282479379\n"
     ]
    }
   ],
   "source": [
    "#Q.2\n",
    "import numpy as np\n",
    "arr=np.array([[1000,35,5,3,365,5],\n",
    "                [865,25,6,4,460,4],\n",
    "                [900,20,8,5,200,2],\n",
    "                [940,40,7,7,800,5],\n",
    "                [1500,60,6,5,500,3],\n",
    "                [1450,50,8,10,1000,5],\n",
    "               [1600,60,8,8,700,4],\n",
    "               [1200,30,15,20,1600,5],\n",
    "               [700,40,12,16,500,4],\n",
    "               [800,100,20,30,2000,4]])\n",
    "Y=np.array([1405,1200,1100,1300,2000,3000,2500,4500,1500,5000])\n",
    "e=float(input('enter the value of lambda:'))\n",
    "arr1=arr.transpose()\n",
    "X1=np.array([750,65,10,12,600,3])\n",
    "n=np.dot(arr1,arr)\n",
    "I=np.array([[1,0,0,0,0,0],[0,1,0,0,0,0],[0,0,1,0,0,0],[0,0,0,1,0,0],[0,0,0,0,1,0],[0,0,0,0,0,1]])\n",
    "I=np.dot(e,I)\n",
    "n=np.add(n,I)\n",
    "B=np.linalg.inv(n)\n",
    "arr2=np.dot(arr1,Y)\n",
    "B=np.dot(B,arr2)\n",
    "print(B)\n",
    "B1=np.insert(B,0,1)\n",
    "# print(B1)\n",
    "X2=np.insert(X1,0,1)\n",
    "# print(X2)\n",
    "B1=B1.transpose()\n",
    "y=np.dot(B1,X2)\n",
    "print(y)"
   ]
  },
  {
   "cell_type": "code",
   "execution_count": 1,
   "id": "4b69a0f7",
   "metadata": {
    "scrolled": true
   },
   "outputs": [
    {
     "name": "stdout",
     "output_type": "stream",
     "text": [
      "[(1, 114.65600725648875), (1, 185.75790696495264), (1, 277.06136504391947), (1, 344.57945382741553), (0, 429.6265820453851), (1, 756.6967688579092), (0, 806.3727425948871), (1, 855.8890114962337), (0, 1097.1864016656423), (0, 1401.48135913397)]\n",
      "[1, 1, 1]\n",
      "X belongs to class 1\n"
     ]
    }
   ],
   "source": [
    "#Q.3\n",
    "import numpy as np\n",
    "import math\n",
    "def euclidean_distance(Y,r):\n",
    "    d=0\n",
    "    for i in range(len(r)):\n",
    "        d+=(Y[i]-r[i])**2\n",
    "    return math.sqrt(d)\n",
    "arr=np.array([[1000,35,5,3,365,5],\n",
    "                [865,25,6,4,460,4],\n",
    "                [900,20,8,5,200,2],\n",
    "                [940,40,7,7,800,5],\n",
    "                [1500,60,6,5,500,3],\n",
    "                [1450,50,8,10,1000,5],\n",
    "               [1600,60,8,8,700,4],\n",
    "               [1200,30,15,20,1600,5],\n",
    "               [700,40,12,16,500,4],\n",
    "               [800,100,20,30,2000,4]])\n",
    "Y=np.array([1,1,0,1,1,0,1,0,1,0])\n",
    "x=np.array([750,65,10,12,600,3])\n",
    "arr1=list()\n",
    "k=3\n",
    "i=0\n",
    "for r in arr:\n",
    "    d=euclidean_distance(x,r)\n",
    "#     v=np.where(arr==r[0])[0]\n",
    "    arr1.append((Y[i],d))\n",
    "#     print(i)\n",
    "    i+=1\n",
    "arr1.sort(key=lambda x:x[1])\n",
    "# print(arr1)\n",
    "arr2=list()\n",
    "for i in range(k):\n",
    "    arr2.append(arr1[i][0])\n",
    "# print(arr2)\n",
    "c1=0\n",
    "c2=0\n",
    "for i in range(k):\n",
    "    if(arr2[i]==1):\n",
    "        c1+=1\n",
    "    else:\n",
    "        c2+=1\n",
    "if(c1>=c2):\n",
    "    print(\"X belongs to class 1\")\n",
    "else:\n",
    "    print(\"X belongs to class 0\")\n",
    "# print()\n",
    "# print(arr1)        \n",
    "# arr1.sort() \n",
    "# print(arr1)"
   ]
  },
  {
   "cell_type": "code",
   "execution_count": null,
   "id": "ae1c9587",
   "metadata": {},
   "outputs": [],
   "source": []
  },
  {
   "cell_type": "code",
   "execution_count": 2,
   "id": "eec4a867",
   "metadata": {},
   "outputs": [
    {
     "name": "stdout",
     "output_type": "stream",
     "text": [
      "[(1, 114.65600725648875), (1, 185.75790696495264), (1, 277.06136504391947), (1, 344.57945382741553), (0, 429.6265820453851), (1, 756.6967688579092), (0, 806.3727425948871), (1, 855.8890114962337), (0, 1097.1864016656423), (0, 1401.48135913397)]\n",
      "1.0\n",
      "X belongs to class: 1\n"
     ]
    }
   ],
   "source": [
    "#Q.4\n",
    "import numpy as np\n",
    "import math\n",
    "def euclidean_distance(Y,r):\n",
    "    d=0\n",
    "    for i in range(len(r)):\n",
    "        d+=(Y[i]-r[i])**2\n",
    "    return math.sqrt(d)\n",
    "arr=np.array([[1000,35,5,3,365,5],\n",
    "                [865,25,6,4,460,4],\n",
    "                [900,20,8,5,200,2],\n",
    "                [940,40,7,7,800,5],\n",
    "                [1500,60,6,5,500,3],\n",
    "                [1450,50,8,10,1000,5],\n",
    "               [1600,60,8,8,700,4],\n",
    "               [1200,30,15,20,1600,5],\n",
    "               [700,40,12,16,500,4],\n",
    "               [800,100,20,30,2000,4]])\n",
    "Y=np.array([1,1,0,1,1,0,1,0,1,0])\n",
    "x=np.array([750,65,10,12,600,3])\n",
    "arr1=list()\n",
    "k=3\n",
    "i=0\n",
    "for r in arr:\n",
    "    d=euclidean_distance(x,r)\n",
    "#     v=np.where(arr==r[0])[0]\n",
    "    arr1.append((Y[i],d))\n",
    "#     print(i)\n",
    "    i+=1\n",
    "arr1.sort(key=lambda x:x[1])\n",
    "print(arr1)\n",
    "arr2=list()\n",
    "for i in range(k):\n",
    "    arr2.append(arr1[i][0])\n",
    "# print(arr2)\n",
    "s=sum(arr2)\n",
    "s=s/k\n",
    "# print(s)\n",
    "print(\"X belongs to class:\",int(s))\n",
    "# print(arr1)        \n",
    "# arr1.sort() \n",
    "# print(arr1)"
   ]
  },
  {
   "cell_type": "code",
   "execution_count": null,
   "id": "131b81ce",
   "metadata": {},
   "outputs": [],
   "source": []
  },
  {
   "cell_type": "code",
   "execution_count": null,
   "id": "d0db54d7",
   "metadata": {},
   "outputs": [],
   "source": []
  },
  {
   "cell_type": "code",
   "execution_count": null,
   "id": "3e6bce2d",
   "metadata": {},
   "outputs": [],
   "source": []
  },
  {
   "cell_type": "code",
   "execution_count": null,
   "id": "45af75c7",
   "metadata": {},
   "outputs": [],
   "source": []
  },
  {
   "cell_type": "code",
   "execution_count": null,
   "id": "1e9d623e",
   "metadata": {},
   "outputs": [],
   "source": []
  },
  {
   "cell_type": "code",
   "execution_count": null,
   "id": "a11b529a",
   "metadata": {},
   "outputs": [],
   "source": []
  },
  {
   "cell_type": "code",
   "execution_count": null,
   "id": "ea49e4f6",
   "metadata": {},
   "outputs": [],
   "source": []
  },
  {
   "cell_type": "code",
   "execution_count": null,
   "id": "dc359e19",
   "metadata": {},
   "outputs": [],
   "source": []
  },
  {
   "cell_type": "code",
   "execution_count": null,
   "id": "1caac789",
   "metadata": {},
   "outputs": [],
   "source": []
  },
  {
   "cell_type": "code",
   "execution_count": null,
   "id": "a956a23f",
   "metadata": {},
   "outputs": [],
   "source": []
  },
  {
   "cell_type": "code",
   "execution_count": null,
   "id": "008fb780",
   "metadata": {},
   "outputs": [],
   "source": []
  },
  {
   "cell_type": "code",
   "execution_count": null,
   "id": "d703a77a",
   "metadata": {},
   "outputs": [],
   "source": []
  },
  {
   "cell_type": "code",
   "execution_count": null,
   "id": "3c562dae",
   "metadata": {},
   "outputs": [],
   "source": []
  },
  {
   "cell_type": "code",
   "execution_count": null,
   "id": "4d386c7e",
   "metadata": {},
   "outputs": [],
   "source": []
  },
  {
   "cell_type": "code",
   "execution_count": null,
   "id": "47099b3e",
   "metadata": {},
   "outputs": [],
   "source": []
  },
  {
   "cell_type": "code",
   "execution_count": null,
   "id": "cb5931be",
   "metadata": {},
   "outputs": [],
   "source": []
  },
  {
   "cell_type": "code",
   "execution_count": null,
   "id": "4361aabd",
   "metadata": {},
   "outputs": [],
   "source": []
  },
  {
   "cell_type": "code",
   "execution_count": null,
   "id": "eb322d80",
   "metadata": {},
   "outputs": [],
   "source": []
  },
  {
   "cell_type": "code",
   "execution_count": null,
   "id": "dda57520",
   "metadata": {},
   "outputs": [],
   "source": []
  },
  {
   "cell_type": "code",
   "execution_count": null,
   "id": "7c4c5e26",
   "metadata": {},
   "outputs": [],
   "source": []
  },
  {
   "cell_type": "code",
   "execution_count": null,
   "id": "8497c969",
   "metadata": {},
   "outputs": [],
   "source": []
  },
  {
   "cell_type": "code",
   "execution_count": 7,
   "id": "29377e2c",
   "metadata": {},
   "outputs": [],
   "source": []
  },
  {
   "cell_type": "code",
   "execution_count": 9,
   "id": "84218ce3",
   "metadata": {},
   "outputs": [],
   "source": []
  },
  {
   "cell_type": "code",
   "execution_count": 11,
   "id": "bdec9722",
   "metadata": {},
   "outputs": [],
   "source": []
  },
  {
   "cell_type": "code",
   "execution_count": 12,
   "id": "e00ab595",
   "metadata": {},
   "outputs": [],
   "source": []
  },
  {
   "cell_type": "code",
   "execution_count": 17,
   "id": "f356fec5",
   "metadata": {},
   "outputs": [
    {
     "name": "stdout",
     "output_type": "stream",
     "text": [
      "[   1.24963642   -7.21908145  -34.72200088   73.85057743    1.88297877\n",
      " -165.88390689]\n",
      "[   1.            1.24963642   -7.21908145  -34.72200088   73.85057743\n",
      "    1.88297877 -165.88390689]\n"
     ]
    }
   ],
   "source": []
  },
  {
   "cell_type": "code",
   "execution_count": 19,
   "id": "e48a4932",
   "metadata": {},
   "outputs": [],
   "source": []
  },
  {
   "cell_type": "code",
   "execution_count": 23,
   "id": "9db256c9",
   "metadata": {},
   "outputs": [
    {
     "name": "stdout",
     "output_type": "stream",
     "text": [
      "[  1 750  65  10  12 600   3]\n"
     ]
    }
   ],
   "source": []
  },
  {
   "cell_type": "code",
   "execution_count": 25,
   "id": "3ab67f17",
   "metadata": {},
   "outputs": [],
   "source": []
  },
  {
   "cell_type": "code",
   "execution_count": 26,
   "id": "f1436e48",
   "metadata": {},
   "outputs": [
    {
     "name": "stdout",
     "output_type": "stream",
     "text": [
      "1640.1094860249214\n"
     ]
    }
   ],
   "source": [
    "print(y)"
   ]
  },
  {
   "cell_type": "code",
   "execution_count": null,
   "id": "3a9fedd1",
   "metadata": {},
   "outputs": [],
   "source": []
  },
  {
   "cell_type": "code",
   "execution_count": null,
   "id": "db609f82",
   "metadata": {},
   "outputs": [],
   "source": []
  },
  {
   "cell_type": "code",
   "execution_count": null,
   "id": "2bc7bb9b",
   "metadata": {},
   "outputs": [],
   "source": []
  },
  {
   "cell_type": "code",
   "execution_count": null,
   "id": "917a6191",
   "metadata": {},
   "outputs": [],
   "source": []
  },
  {
   "cell_type": "code",
   "execution_count": null,
   "id": "1ff8d8af",
   "metadata": {},
   "outputs": [],
   "source": []
  },
  {
   "cell_type": "code",
   "execution_count": null,
   "id": "982068cb",
   "metadata": {},
   "outputs": [],
   "source": []
  },
  {
   "cell_type": "code",
   "execution_count": null,
   "id": "8bec7d3e",
   "metadata": {},
   "outputs": [],
   "source": []
  },
  {
   "cell_type": "code",
   "execution_count": null,
   "id": "af26216a",
   "metadata": {},
   "outputs": [],
   "source": []
  },
  {
   "cell_type": "code",
   "execution_count": null,
   "id": "f5e23454",
   "metadata": {},
   "outputs": [],
   "source": []
  },
  {
   "cell_type": "code",
   "execution_count": null,
   "id": "677417c7",
   "metadata": {},
   "outputs": [],
   "source": []
  },
  {
   "cell_type": "code",
   "execution_count": null,
   "id": "6a7e8e6b",
   "metadata": {},
   "outputs": [],
   "source": []
  },
  {
   "cell_type": "code",
   "execution_count": null,
   "id": "cb91ef61",
   "metadata": {},
   "outputs": [],
   "source": []
  },
  {
   "cell_type": "code",
   "execution_count": null,
   "id": "1cfffb23",
   "metadata": {},
   "outputs": [],
   "source": []
  },
  {
   "cell_type": "code",
   "execution_count": null,
   "id": "3bf6984f",
   "metadata": {},
   "outputs": [],
   "source": []
  },
  {
   "cell_type": "code",
   "execution_count": null,
   "id": "1e859df9",
   "metadata": {},
   "outputs": [],
   "source": []
  },
  {
   "cell_type": "code",
   "execution_count": null,
   "id": "b18ffe42",
   "metadata": {},
   "outputs": [],
   "source": []
  }
 ],
 "metadata": {
  "kernelspec": {
   "display_name": "Python 3 (ipykernel)",
   "language": "python",
   "name": "python3"
  },
  "language_info": {
   "codemirror_mode": {
    "name": "ipython",
    "version": 3
   },
   "file_extension": ".py",
   "mimetype": "text/x-python",
   "name": "python",
   "nbconvert_exporter": "python",
   "pygments_lexer": "ipython3",
   "version": "3.9.12"
  }
 },
 "nbformat": 4,
 "nbformat_minor": 5
}
